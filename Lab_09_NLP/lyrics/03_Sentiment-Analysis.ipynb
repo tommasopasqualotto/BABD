{
 "cells": [
  {
   "cell_type": "markdown",
   "metadata": {},
   "source": [
    "# Sentiment Analysis"
   ]
  },
  {
   "cell_type": "code",
   "execution_count": 4,
   "metadata": {},
   "outputs": [],
   "source": [
    "#import sys\n",
    "#!conda install --yes --prefix {sys.prefix} textblob"
   ]
  },
  {
   "cell_type": "code",
   "execution_count": 5,
   "metadata": {},
   "outputs": [
    {
     "data": {
      "text/plain": [
       "Sentiment(polarity=0.43333333333333335, subjectivity=0.8333333333333334)"
      ]
     },
     "execution_count": 5,
     "metadata": {},
     "output_type": "execute_result"
    }
   ],
   "source": [
    "from textblob import TextBlob\n",
    "\n",
    "TextBlob(\"Imagine there's no heaven. it's easy if you try\").sentiment"
   ]
  },
  {
   "cell_type": "code",
   "execution_count": 6,
   "metadata": {},
   "outputs": [
    {
     "data": {
      "text/plain": [
       "Sentiment(polarity=-0.3, subjectivity=0.6)"
      ]
     },
     "execution_count": 6,
     "metadata": {},
     "output_type": "execute_result"
    }
   ],
   "source": [
    "TextBlob(\"Too late, my time has come\").sentiment"
   ]
  },
  {
   "cell_type": "code",
   "execution_count": 7,
   "metadata": {},
   "outputs": [
    {
     "data": {
      "text/plain": [
       "Sentiment(polarity=-0.35, subjectivity=0.6000000000000001)"
      ]
     },
     "execution_count": 7,
     "metadata": {},
     "output_type": "execute_result"
    }
   ],
   "source": [
    "TextBlob(\"not good\").sentiment"
   ]
  },
  {
   "cell_type": "code",
   "execution_count": 8,
   "metadata": {},
   "outputs": [
    {
     "data": {
      "text/html": [
       "<div>\n",
       "<style scoped>\n",
       "    .dataframe tbody tr th:only-of-type {\n",
       "        vertical-align: middle;\n",
       "    }\n",
       "\n",
       "    .dataframe tbody tr th {\n",
       "        vertical-align: top;\n",
       "    }\n",
       "\n",
       "    .dataframe thead th {\n",
       "        text-align: right;\n",
       "    }\n",
       "</style>\n",
       "<table border=\"1\" class=\"dataframe\">\n",
       "  <thead>\n",
       "    <tr style=\"text-align: right;\">\n",
       "      <th></th>\n",
       "      <th>lyrics</th>\n",
       "    </tr>\n",
       "  </thead>\n",
       "  <tbody>\n",
       "    <tr>\n",
       "      <th>ABBA</th>\n",
       "      <td>[Verse 1]\\nI, I've been in love before\\nI thou...</td>\n",
       "    </tr>\n",
       "    <tr>\n",
       "      <th>David_Bowie</th>\n",
       "      <td>[Intro]\\n\\n[Verse 1]\\nA small Jean Genie snuck...</td>\n",
       "    </tr>\n",
       "    <tr>\n",
       "      <th>Janis_Joplin</th>\n",
       "      <td>[Intro]\\nOh, come on, come on, come on, come o...</td>\n",
       "    </tr>\n",
       "    <tr>\n",
       "      <th>Michael_Jackson</th>\n",
       "      <td>[Verse 1]\\nYour butt is mine, gonna tell you r...</td>\n",
       "    </tr>\n",
       "    <tr>\n",
       "      <th>Queen</th>\n",
       "      <td>[Verse 1]\\nI can dim the lights and sing you s...</td>\n",
       "    </tr>\n",
       "    <tr>\n",
       "      <th>Rolling_Stones</th>\n",
       "      <td>[Intro]\\nWhat a drag it is getting old\\n\\n[Ver...</td>\n",
       "    </tr>\n",
       "    <tr>\n",
       "      <th>The_Clash</th>\n",
       "      <td>Stay around don't play around\\nThis old town a...</td>\n",
       "    </tr>\n",
       "    <tr>\n",
       "      <th>Bob_Dylan</th>\n",
       "      <td>[Verse 1]\\nGo away from my window\\nLeave at yo...</td>\n",
       "    </tr>\n",
       "    <tr>\n",
       "      <th>Elton_John</th>\n",
       "      <td>[Verse 1]\\nCan you hear it in the distance?\\nC...</td>\n",
       "    </tr>\n",
       "    <tr>\n",
       "      <th>Led_Zeppeling</th>\n",
       "      <td>[Intro]\\nHey\\nThat's right\\n\\n[Verse 1]\\nAsked...</td>\n",
       "    </tr>\n",
       "    <tr>\n",
       "      <th>Pink_Floyd</th>\n",
       "      <td>[Verse 1]\\nInto the distance, a ribbon of blac...</td>\n",
       "    </tr>\n",
       "    <tr>\n",
       "      <th>Ramones</th>\n",
       "      <td>[Intro]\\n1-2-3-4\\n\\n[Verse 1]\\nWhen I'm lying ...</td>\n",
       "    </tr>\n",
       "    <tr>\n",
       "      <th>The_Beatles</th>\n",
       "      <td>[Verse 1]\\nJojo was a man who thought he was a...</td>\n",
       "    </tr>\n",
       "    <tr>\n",
       "      <th>The_Doors</th>\n",
       "      <td>Lions in the street and roaming\\nDogs in heat,...</td>\n",
       "    </tr>\n",
       "  </tbody>\n",
       "</table>\n",
       "</div>"
      ],
      "text/plain": [
       "                                                            lyrics\n",
       "ABBA             [Verse 1]\\nI, I've been in love before\\nI thou...\n",
       "David_Bowie      [Intro]\\n\\n[Verse 1]\\nA small Jean Genie snuck...\n",
       "Janis_Joplin     [Intro]\\nOh, come on, come on, come on, come o...\n",
       "Michael_Jackson  [Verse 1]\\nYour butt is mine, gonna tell you r...\n",
       "Queen            [Verse 1]\\nI can dim the lights and sing you s...\n",
       "Rolling_Stones   [Intro]\\nWhat a drag it is getting old\\n\\n[Ver...\n",
       "The_Clash        Stay around don't play around\\nThis old town a...\n",
       "Bob_Dylan        [Verse 1]\\nGo away from my window\\nLeave at yo...\n",
       "Elton_John       [Verse 1]\\nCan you hear it in the distance?\\nC...\n",
       "Led_Zeppeling    [Intro]\\nHey\\nThat's right\\n\\n[Verse 1]\\nAsked...\n",
       "Pink_Floyd       [Verse 1]\\nInto the distance, a ribbon of blac...\n",
       "Ramones          [Intro]\\n1-2-3-4\\n\\n[Verse 1]\\nWhen I'm lying ...\n",
       "The_Beatles      [Verse 1]\\nJojo was a man who thought he was a...\n",
       "The_Doors        Lions in the street and roaming\\nDogs in heat,..."
      ]
     },
     "execution_count": 8,
     "metadata": {},
     "output_type": "execute_result"
    }
   ],
   "source": [
    "import pandas as pd\n",
    "\n",
    "artists=['ABBA','David_Bowie','Janis_Joplin','Michael_Jackson','Queen','Rolling_Stones','The_Clash','Bob_Dylan','Elton_John','Led_Zeppeling','Pink_Floyd','Ramones','The_Beatles','The_Doors']\n",
    "\n",
    "data = {}\n",
    "for i, a in enumerate(artists):\n",
    "    with open(\"lyrics_top50/\" + a + \".txt\", \"r\") as file:\n",
    "        data[a] = file.read()\n",
    "        \n",
    "data_df = pd.DataFrame(data,index=[0]).transpose()\n",
    "data_df.columns=['lyrics']\n",
    "data_df"
   ]
  },
  {
   "cell_type": "code",
   "execution_count": 9,
   "metadata": {},
   "outputs": [
    {
     "data": {
      "text/html": [
       "<div>\n",
       "<style scoped>\n",
       "    .dataframe tbody tr th:only-of-type {\n",
       "        vertical-align: middle;\n",
       "    }\n",
       "\n",
       "    .dataframe tbody tr th {\n",
       "        vertical-align: top;\n",
       "    }\n",
       "\n",
       "    .dataframe thead th {\n",
       "        text-align: right;\n",
       "    }\n",
       "</style>\n",
       "<table border=\"1\" class=\"dataframe\">\n",
       "  <thead>\n",
       "    <tr style=\"text-align: right;\">\n",
       "      <th></th>\n",
       "      <th>lyrics</th>\n",
       "      <th>polarity</th>\n",
       "      <th>subjectivity</th>\n",
       "    </tr>\n",
       "  </thead>\n",
       "  <tbody>\n",
       "    <tr>\n",
       "      <th>ABBA</th>\n",
       "      <td>[Verse 1]\\nI, I've been in love before\\nI thou...</td>\n",
       "      <td>0.115758</td>\n",
       "      <td>0.514527</td>\n",
       "    </tr>\n",
       "    <tr>\n",
       "      <th>David_Bowie</th>\n",
       "      <td>[Intro]\\n\\n[Verse 1]\\nA small Jean Genie snuck...</td>\n",
       "      <td>0.073265</td>\n",
       "      <td>0.474530</td>\n",
       "    </tr>\n",
       "    <tr>\n",
       "      <th>Janis_Joplin</th>\n",
       "      <td>[Intro]\\nOh, come on, come on, come on, come o...</td>\n",
       "      <td>0.216069</td>\n",
       "      <td>0.516952</td>\n",
       "    </tr>\n",
       "    <tr>\n",
       "      <th>Michael_Jackson</th>\n",
       "      <td>[Verse 1]\\nYour butt is mine, gonna tell you r...</td>\n",
       "      <td>0.128611</td>\n",
       "      <td>0.509167</td>\n",
       "    </tr>\n",
       "    <tr>\n",
       "      <th>Queen</th>\n",
       "      <td>[Verse 1]\\nI can dim the lights and sing you s...</td>\n",
       "      <td>0.134477</td>\n",
       "      <td>0.540202</td>\n",
       "    </tr>\n",
       "    <tr>\n",
       "      <th>Rolling_Stones</th>\n",
       "      <td>[Intro]\\nWhat a drag it is getting old\\n\\n[Ver...</td>\n",
       "      <td>0.044148</td>\n",
       "      <td>0.514998</td>\n",
       "    </tr>\n",
       "    <tr>\n",
       "      <th>The_Clash</th>\n",
       "      <td>Stay around don't play around\\nThis old town a...</td>\n",
       "      <td>0.053961</td>\n",
       "      <td>0.437761</td>\n",
       "    </tr>\n",
       "    <tr>\n",
       "      <th>Bob_Dylan</th>\n",
       "      <td>[Verse 1]\\nGo away from my window\\nLeave at yo...</td>\n",
       "      <td>0.055089</td>\n",
       "      <td>0.468441</td>\n",
       "    </tr>\n",
       "    <tr>\n",
       "      <th>Elton_John</th>\n",
       "      <td>[Verse 1]\\nCan you hear it in the distance?\\nC...</td>\n",
       "      <td>0.110339</td>\n",
       "      <td>0.486626</td>\n",
       "    </tr>\n",
       "    <tr>\n",
       "      <th>Led_Zeppeling</th>\n",
       "      <td>[Intro]\\nHey\\nThat's right\\n\\n[Verse 1]\\nAsked...</td>\n",
       "      <td>0.153027</td>\n",
       "      <td>0.518535</td>\n",
       "    </tr>\n",
       "    <tr>\n",
       "      <th>Pink_Floyd</th>\n",
       "      <td>[Verse 1]\\nInto the distance, a ribbon of blac...</td>\n",
       "      <td>0.039098</td>\n",
       "      <td>0.523141</td>\n",
       "    </tr>\n",
       "    <tr>\n",
       "      <th>Ramones</th>\n",
       "      <td>[Intro]\\n1-2-3-4\\n\\n[Verse 1]\\nWhen I'm lying ...</td>\n",
       "      <td>0.144857</td>\n",
       "      <td>0.494355</td>\n",
       "    </tr>\n",
       "    <tr>\n",
       "      <th>The_Beatles</th>\n",
       "      <td>[Verse 1]\\nJojo was a man who thought he was a...</td>\n",
       "      <td>0.134613</td>\n",
       "      <td>0.472025</td>\n",
       "    </tr>\n",
       "    <tr>\n",
       "      <th>The_Doors</th>\n",
       "      <td>Lions in the street and roaming\\nDogs in heat,...</td>\n",
       "      <td>0.093151</td>\n",
       "      <td>0.495120</td>\n",
       "    </tr>\n",
       "  </tbody>\n",
       "</table>\n",
       "</div>"
      ],
      "text/plain": [
       "                                                            lyrics  polarity  \\\n",
       "ABBA             [Verse 1]\\nI, I've been in love before\\nI thou...  0.115758   \n",
       "David_Bowie      [Intro]\\n\\n[Verse 1]\\nA small Jean Genie snuck...  0.073265   \n",
       "Janis_Joplin     [Intro]\\nOh, come on, come on, come on, come o...  0.216069   \n",
       "Michael_Jackson  [Verse 1]\\nYour butt is mine, gonna tell you r...  0.128611   \n",
       "Queen            [Verse 1]\\nI can dim the lights and sing you s...  0.134477   \n",
       "Rolling_Stones   [Intro]\\nWhat a drag it is getting old\\n\\n[Ver...  0.044148   \n",
       "The_Clash        Stay around don't play around\\nThis old town a...  0.053961   \n",
       "Bob_Dylan        [Verse 1]\\nGo away from my window\\nLeave at yo...  0.055089   \n",
       "Elton_John       [Verse 1]\\nCan you hear it in the distance?\\nC...  0.110339   \n",
       "Led_Zeppeling    [Intro]\\nHey\\nThat's right\\n\\n[Verse 1]\\nAsked...  0.153027   \n",
       "Pink_Floyd       [Verse 1]\\nInto the distance, a ribbon of blac...  0.039098   \n",
       "Ramones          [Intro]\\n1-2-3-4\\n\\n[Verse 1]\\nWhen I'm lying ...  0.144857   \n",
       "The_Beatles      [Verse 1]\\nJojo was a man who thought he was a...  0.134613   \n",
       "The_Doors        Lions in the street and roaming\\nDogs in heat,...  0.093151   \n",
       "\n",
       "                 subjectivity  \n",
       "ABBA                 0.514527  \n",
       "David_Bowie          0.474530  \n",
       "Janis_Joplin         0.516952  \n",
       "Michael_Jackson      0.509167  \n",
       "Queen                0.540202  \n",
       "Rolling_Stones       0.514998  \n",
       "The_Clash            0.437761  \n",
       "Bob_Dylan            0.468441  \n",
       "Elton_John           0.486626  \n",
       "Led_Zeppeling        0.518535  \n",
       "Pink_Floyd           0.523141  \n",
       "Ramones              0.494355  \n",
       "The_Beatles          0.472025  \n",
       "The_Doors            0.495120  "
      ]
     },
     "execution_count": 9,
     "metadata": {},
     "output_type": "execute_result"
    }
   ],
   "source": [
    "# Create quick lambda functions to find the polarity and subjectivity of each routine\n",
    "# Terminal / Anaconda Navigator: conda install -c conda-forge textblob\n",
    "from textblob import TextBlob\n",
    "\n",
    "pol = lambda x: TextBlob(x).sentiment.polarity\n",
    "sub = lambda x: TextBlob(x).sentiment.subjectivity\n",
    "\n",
    "data_df['polarity'] = data_df['lyrics'].apply(pol)\n",
    "data_df['subjectivity'] = data_df['lyrics'].apply(sub)\n",
    "data_df"
   ]
  },
  {
   "cell_type": "code",
   "execution_count": 10,
   "metadata": {},
   "outputs": [
    {
     "data": {
      "text/plain": [
       "Index(['ABBA', 'David_Bowie', 'Janis_Joplin', 'Michael_Jackson', 'Queen',\n",
       "       'Rolling_Stones', 'The_Clash', 'Bob_Dylan', 'Elton_John',\n",
       "       'Led_Zeppeling', 'Pink_Floyd', 'Ramones', 'The_Beatles', 'The_Doors'],\n",
       "      dtype='object')"
      ]
     },
     "execution_count": 10,
     "metadata": {},
     "output_type": "execute_result"
    }
   ],
   "source": [
    "data_df.index"
   ]
  },
  {
   "cell_type": "code",
   "execution_count": 11,
   "metadata": {},
   "outputs": [
    {
     "data": {
      "image/png": "[encoded data removed]",
      "text/plain": [
       "<Figure size 720x576 with 1 Axes>"
      ]
     },
     "metadata": {
      "needs_background": "light"
     },
     "output_type": "display_data"
    }
   ],
   "source": [
    "# Let's plot the results\n",
    "import matplotlib.pyplot as plt\n",
    "\n",
    "plt.rcParams['figure.figsize'] = [10, 8]\n",
    "\n",
    "for index, artist in enumerate(data_df.index):\n",
    "    x = data_df.polarity.loc[artist]\n",
    "    y = data_df.subjectivity.loc[artist]\n",
    "    plt.scatter(x, y, color='blue')\n",
    "    plt.text(x+.001, y+.001, data_df.index[index], fontsize=10)\n",
    "    plt.xlim(-.01, .22) \n",
    "    \n",
    "plt.title('Sentiment Analysis', fontsize=20)\n",
    "plt.xlabel('<-- Negative -------- Positive -->', fontsize=15)\n",
    "plt.ylabel('<-- Facts -------- Opinions -->', fontsize=15)\n",
    "\n",
    "plt.show()"
   ]
  },
  {
   "cell_type": "code",
   "execution_count": null,
   "metadata": {},
   "outputs": [],
   "source": []
  },
  {
   "cell_type": "code",
   "execution_count": null,
   "metadata": {},
   "outputs": [],
   "source": []
  }
 ],
 "metadata": {
  "kernelspec": {
   "display_name": "Python 3",
   "language": "python",
   "name": "python3"
  },
  "language_info": {
   "codemirror_mode": {
    "name": "ipython",
    "version": 3
   },
   "file_extension": ".py",
   "mimetype": "text/x-python",
   "name": "python",
   "nbconvert_exporter": "python",
   "pygments_lexer": "ipython3",
   "version": "3.7.6"
  },
  "toc": {
   "nav_menu": {},
   "number_sections": true,
   "sideBar": true,
   "skip_h1_title": false,
   "toc_cell": false,
   "toc_position": {},
   "toc_section_display": "block",
   "toc_window_display": false
  },
  "varInspector": {
   "cols": {
    "lenName": 16,
    "lenType": 16,
    "lenVar": 40
   },
   "kernels_config": {
    "python": {
     "delete_cmd_postfix": "",
     "delete_cmd_prefix": "del ",
     "library": "var_list.py",
     "varRefreshCmd": "print(var_dic_list())"
    },
    "r": {
     "delete_cmd_postfix": ") ",
     "delete_cmd_prefix": "rm(",
     "library": "var_list.r",
     "varRefreshCmd": "cat(var_dic_list()) "
    }
   },
   "types_to_exclude": [
    "module",
    "function",
    "builtin_function_or_method",
    "instance",
    "_Feature"
   ],
   "window_display": false
  }
 },
 "nbformat": 4,
 "nbformat_minor": 2
}
